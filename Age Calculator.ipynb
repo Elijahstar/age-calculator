{
 "cells": [
  {
   "cell_type": "code",
   "execution_count": null,
   "id": "ce1bb7b8",
   "metadata": {},
   "outputs": [],
   "source": [
    "import maths as m"
   ]
  },
  {
   "cell_type": "code",
   "execution_count": 10,
   "id": "124188f4",
   "metadata": {},
   "outputs": [
    {
     "ename": "SyntaxError",
     "evalue": "invalid syntax (<ipython-input-10-a644cf5451f3>, line 1)",
     "output_type": "error",
     "traceback": [
      "\u001b[1;36m  File \u001b[1;32m\"<ipython-input-10-a644cf5451f3>\"\u001b[1;36m, line \u001b[1;32m1\u001b[0m\n\u001b[1;33m    `python calculate.py`\u001b[0m\n\u001b[1;37m    ^\u001b[0m\n\u001b[1;31mSyntaxError\u001b[0m\u001b[1;31m:\u001b[0m invalid syntax\n"
     ]
    }
   ],
   "source": [
    "`python calculate.py`\n"
   ]
  },
  {
   "cell_type": "code",
   "execution_count": 11,
   "id": "425aabfe",
   "metadata": {},
   "outputs": [
    {
     "ename": "SyntaxError",
     "evalue": "invalid syntax (<ipython-input-11-df8e1ac6f555>, line 1)",
     "output_type": "error",
     "traceback": [
      "\u001b[1;36m  File \u001b[1;32m\"<ipython-input-11-df8e1ac6f555>\"\u001b[1;36m, line \u001b[1;32m1\u001b[0m\n\u001b[1;33m    python calculate.py\u001b[0m\n\u001b[1;37m           ^\u001b[0m\n\u001b[1;31mSyntaxError\u001b[0m\u001b[1;31m:\u001b[0m invalid syntax\n"
     ]
    }
   ],
   "source": [
    "python calculate.py\n",
    "name = input('What is your name?')\n",
    "print('Hello',name)\n",
    "age = input('How old are you?')\n"
   ]
  },
  {
   "cell_type": "code",
   "execution_count": 19,
   "id": "12c4f054",
   "metadata": {},
   "outputs": [],
   "source": [
    "def age(a):\n",
    "    print(a,'years')"
   ]
  },
  {
   "cell_type": "code",
   "execution_count": 18,
   "id": "0c478182",
   "metadata": {},
   "outputs": [],
   "source": [
    "def months(b,d):\n",
    "    month = b*d\n",
    "    return month"
   ]
  },
  {
   "cell_type": "code",
   "execution_count": 24,
   "id": "5eeeb622",
   "metadata": {},
   "outputs": [
    {
     "name": "stdout",
     "output_type": "stream",
     "text": [
      "How old are you?4\n",
      "4 years\n"
     ]
    },
    {
     "data": {
      "text/plain": [
       "'444444444444'"
      ]
     },
     "execution_count": 24,
     "metadata": {},
     "output_type": "execute_result"
    }
   ],
   "source": [
    "c = input(\"How old are you?\")\n",
    "age(c)\n",
    "months(c,12)"
   ]
  },
  {
   "cell_type": "code",
   "execution_count": 13,
   "id": "6c0bc384",
   "metadata": {},
   "outputs": [
    {
     "data": {
      "text/plain": [
       "15"
      ]
     },
     "execution_count": 13,
     "metadata": {},
     "output_type": "execute_result"
    }
   ],
   "source": [
    "months(3,5)"
   ]
  }
 ],
 "metadata": {
  "kernelspec": {
   "display_name": "Python 3",
   "language": "python",
   "name": "python3"
  },
  "language_info": {
   "codemirror_mode": {
    "name": "ipython",
    "version": 3
   },
   "file_extension": ".py",
   "mimetype": "text/x-python",
   "name": "python",
   "nbconvert_exporter": "python",
   "pygments_lexer": "ipython3",
   "version": "3.8.8"
  }
 },
 "nbformat": 4,
 "nbformat_minor": 5
}
